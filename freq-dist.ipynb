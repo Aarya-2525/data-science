{
 "cells": [
  {
   "cell_type": "code",
   "execution_count": 2,
   "id": "7a954953",
   "metadata": {},
   "outputs": [
    {
     "name": "stdout",
     "output_type": "stream",
     "text": [
      "+----------+-----------+--------------------+-------------------+\n",
      "|   Name   | Frequency | Relative Frequency | Percent Frequency |\n",
      "+----------+-----------+--------------------+-------------------+\n",
      "|  Jacobs  |     8     |        0.16        |        16.0       |\n",
      "| Janssens |     12    |        0.24        |        24.0       |\n",
      "|   Maes   |     8     |        0.16        |        16.0       |\n",
      "| Mertens  |     8     |        0.16        |        16.0       |\n",
      "| Peeters  |     9     |        0.18        |        18.0       |\n",
      "| Willems  |     5     |        0.1         |        10.0       |\n",
      "+----------+-----------+--------------------+-------------------+\n"
     ]
    }
   ],
   "source": [
    "import numpy as np\n",
    "import prettytable\n",
    "\n",
    "names = np.array(['Jacobs', 'Janssens', 'Maes', 'Mertens', 'Peeters', 'Willems'])\n",
    "freq = np.array([8,12,8,8,9,5])\n",
    "rel_freq = freq / freq.sum()\n",
    "percent_freq = rel_freq * 100\n",
    "\n",
    "table = prettytable.PrettyTable()\n",
    "table.field_names = [\"Name\", \"Frequency\", \"Relative Frequency\", \"Percent Frequency\"]\n",
    "for i in range(len(names)):\n",
    "    table.add_row([names[i], freq[i], rel_freq[i], percent_freq[i]])\n",
    "print(table)"
   ]
  }
 ],
 "metadata": {
  "kernelspec": {
   "display_name": "Python 3",
   "language": "python",
   "name": "python3"
  },
  "language_info": {
   "codemirror_mode": {
    "name": "ipython",
    "version": 3
   },
   "file_extension": ".py",
   "mimetype": "text/x-python",
   "name": "python",
   "nbconvert_exporter": "python",
   "pygments_lexer": "ipython3",
   "version": "3.12.3"
  }
 },
 "nbformat": 4,
 "nbformat_minor": 5
}
